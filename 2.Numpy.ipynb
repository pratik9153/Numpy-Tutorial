{
 "cells": [
  {
   "cell_type": "code",
   "execution_count": 1,
   "id": "50401e52-03e4-48b0-8823-6769f4a72ebb",
   "metadata": {},
   "outputs": [],
   "source": [
    "#numpy array manipulation \n",
    "import numpy as np"
   ]
  },
  {
   "cell_type": "code",
   "execution_count": 3,
   "id": "a5ca8f02-817c-4d8d-abd3-afbad9fb1eee",
   "metadata": {},
   "outputs": [],
   "source": [
    "arr = np.random.randint(1,10 , (3,4))"
   ]
  },
  {
   "cell_type": "code",
   "execution_count": 4,
   "id": "65e699c0-38a7-462d-924d-721e90ba3b1f",
   "metadata": {},
   "outputs": [
    {
     "data": {
      "text/plain": [
       "array([[9, 8],\n",
       "       [2, 8],\n",
       "       [3, 7],\n",
       "       [6, 4],\n",
       "       [4, 8],\n",
       "       [4, 8]])"
      ]
     },
     "execution_count": 4,
     "metadata": {},
     "output_type": "execute_result"
    }
   ],
   "source": [
    "arr.reshape(6,2)"
   ]
  },
  {
   "cell_type": "code",
   "execution_count": 5,
   "id": "d03ab89d-4807-4f52-b06b-093114038bb6",
   "metadata": {},
   "outputs": [
    {
     "data": {
      "text/plain": [
       "array([[9, 8, 2, 8, 3, 7],\n",
       "       [6, 4, 4, 8, 4, 8]])"
      ]
     },
     "execution_count": 5,
     "metadata": {},
     "output_type": "execute_result"
    }
   ],
   "source": [
    "arr.reshape(2,6)"
   ]
  },
  {
   "cell_type": "code",
   "execution_count": 6,
   "id": "55af82b0-0e14-4fa8-a2a9-e6e6811719e3",
   "metadata": {},
   "outputs": [
    {
     "ename": "ValueError",
     "evalue": "cannot reshape array of size 12 into shape (2,7)",
     "output_type": "error",
     "traceback": [
      "\u001b[1;31m---------------------------------------------------------------------------\u001b[0m",
      "\u001b[1;31mValueError\u001b[0m                                Traceback (most recent call last)",
      "\u001b[1;32m~\\AppData\\Local\\Temp\\ipykernel_18864\\2711302129.py\u001b[0m in \u001b[0;36m<module>\u001b[1;34m\u001b[0m\n\u001b[1;32m----> 1\u001b[1;33m \u001b[0marr\u001b[0m\u001b[1;33m.\u001b[0m\u001b[0mreshape\u001b[0m\u001b[1;33m(\u001b[0m\u001b[1;36m2\u001b[0m\u001b[1;33m,\u001b[0m\u001b[1;36m7\u001b[0m\u001b[1;33m)\u001b[0m\u001b[1;33m\u001b[0m\u001b[1;33m\u001b[0m\u001b[0m\n\u001b[0m",
      "\u001b[1;31mValueError\u001b[0m: cannot reshape array of size 12 into shape (2,7)"
     ]
    }
   ],
   "source": [
    "arr.reshape(2,7)"
   ]
  },
  {
   "cell_type": "code",
   "execution_count": 8,
   "id": "048c145d-db4c-440b-8ade-2ab89ff32a03",
   "metadata": {},
   "outputs": [
    {
     "data": {
      "text/plain": [
       "array([[9, 8, 2, 8, 3, 7],\n",
       "       [6, 4, 4, 8, 4, 8]])"
      ]
     },
     "execution_count": 8,
     "metadata": {},
     "output_type": "execute_result"
    }
   ],
   "source": [
    "arr.reshape(2,-4444)"
   ]
  },
  {
   "cell_type": "code",
   "execution_count": 9,
   "id": "2fb6ebda-70af-4493-a3be-ea0404271107",
   "metadata": {},
   "outputs": [
    {
     "data": {
      "text/plain": [
       "array([[9, 3, 4],\n",
       "       [8, 7, 8],\n",
       "       [2, 6, 4],\n",
       "       [8, 4, 8]])"
      ]
     },
     "execution_count": 9,
     "metadata": {},
     "output_type": "execute_result"
    }
   ],
   "source": [
    "arr.T"
   ]
  },
  {
   "cell_type": "code",
   "execution_count": 10,
   "id": "8906119e-4697-4130-98e8-9b2e620a9c4f",
   "metadata": {},
   "outputs": [
    {
     "data": {
      "text/plain": [
       "array([[9, 8, 2, 8],\n",
       "       [3, 7, 6, 4],\n",
       "       [4, 8, 4, 8]])"
      ]
     },
     "execution_count": 10,
     "metadata": {},
     "output_type": "execute_result"
    }
   ],
   "source": [
    "arr"
   ]
  },
  {
   "cell_type": "code",
   "execution_count": 11,
   "id": "7a1521d7-8432-4876-965e-fb632c3b4eb7",
   "metadata": {},
   "outputs": [
    {
     "data": {
      "text/plain": [
       "array([9, 8, 2, 8, 3, 7, 6, 4, 4, 8, 4, 8])"
      ]
     },
     "execution_count": 11,
     "metadata": {},
     "output_type": "execute_result"
    }
   ],
   "source": [
    "arr.flatten()"
   ]
  },
  {
   "cell_type": "code",
   "execution_count": 15,
   "id": "47f43926-eb5b-4c25-bc30-f2e1c6408d59",
   "metadata": {},
   "outputs": [],
   "source": [
    "arr1 = np.array([1,2,3,3,4])"
   ]
  },
  {
   "cell_type": "code",
   "execution_count": 16,
   "id": "a2e7f01f-248e-4a55-9d4f-fb5c91a28a92",
   "metadata": {},
   "outputs": [
    {
     "data": {
      "text/plain": [
       "1"
      ]
     },
     "execution_count": 16,
     "metadata": {},
     "output_type": "execute_result"
    }
   ],
   "source": [
    "arr1.ndim"
   ]
  },
  {
   "cell_type": "code",
   "execution_count": 18,
   "id": "1bb72f3d-e1b8-433f-b9db-348bdccac490",
   "metadata": {},
   "outputs": [
    {
     "data": {
      "text/plain": [
       "array([[1, 2, 3, 3, 4]])"
      ]
     },
     "execution_count": 18,
     "metadata": {},
     "output_type": "execute_result"
    }
   ],
   "source": [
    "np.expand_dims(arr1,axis=0)"
   ]
  },
  {
   "cell_type": "code",
   "execution_count": 19,
   "id": "6a66b82c-4b0f-4730-8062-e94cbb3bccbd",
   "metadata": {},
   "outputs": [
    {
     "data": {
      "text/plain": [
       "array([[9, 8, 2, 8],\n",
       "       [3, 7, 6, 4],\n",
       "       [4, 8, 4, 8]])"
      ]
     },
     "execution_count": 19,
     "metadata": {},
     "output_type": "execute_result"
    }
   ],
   "source": [
    "arr"
   ]
  },
  {
   "cell_type": "code",
   "execution_count": 20,
   "id": "c7cdb94b-82dd-4485-a39c-3d959ffc02b3",
   "metadata": {},
   "outputs": [
    {
     "data": {
      "text/plain": [
       "array([[9, 8, 2, 8],\n",
       "       [3, 7, 6, 4],\n",
       "       [4, 8, 4, 8]])"
      ]
     },
     "execution_count": 20,
     "metadata": {},
     "output_type": "execute_result"
    }
   ],
   "source": [
    "np.squeeze(arr)"
   ]
  },
  {
   "cell_type": "code",
   "execution_count": 21,
   "id": "ea6fb329-c0f5-4f1f-9a95-4cbdd2de395e",
   "metadata": {},
   "outputs": [],
   "source": [
    "data = np.array([[1] , [2] , [3]])"
   ]
  },
  {
   "cell_type": "code",
   "execution_count": 22,
   "id": "bc0aefd4-6b89-4863-8ac0-24f0a30588f5",
   "metadata": {},
   "outputs": [
    {
     "data": {
      "text/plain": [
       "array([[1],\n",
       "       [2],\n",
       "       [3]])"
      ]
     },
     "execution_count": 22,
     "metadata": {},
     "output_type": "execute_result"
    }
   ],
   "source": [
    "data"
   ]
  },
  {
   "cell_type": "code",
   "execution_count": 23,
   "id": "49255e63-4cdd-4dac-916e-793574d81560",
   "metadata": {},
   "outputs": [
    {
     "data": {
      "text/plain": [
       "array([1, 2, 3])"
      ]
     },
     "execution_count": 23,
     "metadata": {},
     "output_type": "execute_result"
    }
   ],
   "source": [
    "np.squeeze(data)"
   ]
  },
  {
   "cell_type": "code",
   "execution_count": 24,
   "id": "de467376-654f-434c-9c1f-4c752defae66",
   "metadata": {},
   "outputs": [
    {
     "data": {
      "text/plain": [
       "array([1, 2, 3, 3, 4])"
      ]
     },
     "execution_count": 24,
     "metadata": {},
     "output_type": "execute_result"
    }
   ],
   "source": [
    "arr1"
   ]
  },
  {
   "cell_type": "code",
   "execution_count": 25,
   "id": "df1f5804-f465-4155-aea9-a205ef3284b9",
   "metadata": {},
   "outputs": [
    {
     "data": {
      "text/plain": [
       "array([1, 1, 1, 2, 2, 2, 3, 3, 3, 3, 3, 3, 4, 4, 4])"
      ]
     },
     "execution_count": 25,
     "metadata": {},
     "output_type": "execute_result"
    }
   ],
   "source": [
    "np.repeat(arr1,3)"
   ]
  },
  {
   "cell_type": "code",
   "execution_count": 27,
   "id": "565c6213-03f0-4357-9774-5693482e7f9e",
   "metadata": {},
   "outputs": [
    {
     "data": {
      "text/plain": [
       "array([3, 4, 1, 2, 3])"
      ]
     },
     "execution_count": 27,
     "metadata": {},
     "output_type": "execute_result"
    }
   ],
   "source": [
    "np.roll(arr1 ,shift = 2)"
   ]
  },
  {
   "cell_type": "code",
   "execution_count": 28,
   "id": "c101ac1e-26cf-41c0-9a50-087b0375e390",
   "metadata": {},
   "outputs": [
    {
     "data": {
      "text/plain": [
       "array([[1, 0, 0, 0, 0],\n",
       "       [0, 2, 0, 0, 0],\n",
       "       [0, 0, 3, 0, 0],\n",
       "       [0, 0, 0, 3, 0],\n",
       "       [0, 0, 0, 0, 4]])"
      ]
     },
     "execution_count": 28,
     "metadata": {},
     "output_type": "execute_result"
    }
   ],
   "source": [
    "np.diag(arr1)"
   ]
  },
  {
   "cell_type": "code",
   "execution_count": 33,
   "id": "bb7c1163-542f-4f46-a19b-03ae099a3075",
   "metadata": {},
   "outputs": [],
   "source": [
    "arr2 = np.random.randint(1,10 , (3,4))"
   ]
  },
  {
   "cell_type": "code",
   "execution_count": 34,
   "id": "3337a927-e1b2-4b83-9420-b7f4815491b0",
   "metadata": {},
   "outputs": [],
   "source": [
    "arr3 = np.random.randint(1,10 , (3,4))"
   ]
  },
  {
   "cell_type": "code",
   "execution_count": 35,
   "id": "30a508f1-acc3-49da-b2dc-404c908c2bd3",
   "metadata": {},
   "outputs": [
    {
     "data": {
      "text/plain": [
       "array([[13,  4, 10,  8],\n",
       "       [ 7,  7,  6,  9],\n",
       "       [ 7,  6, 12,  4]])"
      ]
     },
     "execution_count": 35,
     "metadata": {},
     "output_type": "execute_result"
    }
   ],
   "source": [
    "arr2 + arr3"
   ]
  },
  {
   "cell_type": "code",
   "execution_count": 36,
   "id": "2ce0c2b3-0984-4727-9a94-41d849907013",
   "metadata": {},
   "outputs": [
    {
     "data": {
      "text/plain": [
       "array([[40,  3, 16, 12],\n",
       "       [10,  6,  9, 20],\n",
       "       [ 6,  8, 27,  3]])"
      ]
     },
     "execution_count": 36,
     "metadata": {},
     "output_type": "execute_result"
    }
   ],
   "source": [
    "arr2*arr3"
   ]
  },
  {
   "cell_type": "code",
   "execution_count": 37,
   "id": "cbb7dfd8-92eb-4d38-9f4d-99a45a4125c6",
   "metadata": {},
   "outputs": [
    {
     "data": {
      "text/plain": [
       "array([[1.6       , 3.        , 0.25      , 0.33333333],\n",
       "       [0.4       , 0.16666667, 1.        , 1.25      ],\n",
       "       [6.        , 0.5       , 0.33333333, 3.        ]])"
      ]
     },
     "execution_count": 37,
     "metadata": {},
     "output_type": "execute_result"
    }
   ],
   "source": [
    "arr2/arr3"
   ]
  },
  {
   "cell_type": "code",
   "execution_count": 38,
   "id": "ed6c673e-ad7b-4b4b-818f-a762c4fefdf0",
   "metadata": {},
   "outputs": [
    {
     "data": {
      "text/plain": [
       "array([[ 3,  2, -6, -4],\n",
       "       [-3, -5,  0,  1],\n",
       "       [ 5, -2, -6,  2]])"
      ]
     },
     "execution_count": 38,
     "metadata": {},
     "output_type": "execute_result"
    }
   ],
   "source": [
    "arr2-arr3"
   ]
  },
  {
   "cell_type": "code",
   "execution_count": 40,
   "id": "04798c70-ddbe-4d81-a568-8b1856c03ab7",
   "metadata": {},
   "outputs": [
    {
     "data": {
      "text/plain": [
       "array([[3, 0, 2, 2],\n",
       "       [2, 1, 0, 1],\n",
       "       [0, 2, 3, 0]], dtype=int32)"
      ]
     },
     "execution_count": 40,
     "metadata": {},
     "output_type": "execute_result"
    }
   ],
   "source": [
    "arr2%arr3"
   ]
  },
  {
   "cell_type": "code",
   "execution_count": 41,
   "id": "f8d7f46b-8dd9-4477-8baa-b64c3aed8eac",
   "metadata": {},
   "outputs": [
    {
     "data": {
      "text/plain": [
       "array([[32768,     3,   256,    64],\n",
       "       [   32,     1,    27,   625],\n",
       "       [    6,    16, 19683,     3]], dtype=int32)"
      ]
     },
     "execution_count": 41,
     "metadata": {},
     "output_type": "execute_result"
    }
   ],
   "source": [
    "arr2 ** arr3"
   ]
  },
  {
   "cell_type": "code",
   "execution_count": 42,
   "id": "42061dfc-cbcb-4a66-b90c-90f962bbbd16",
   "metadata": {},
   "outputs": [
    {
     "data": {
      "text/plain": [
       "array([[0, 1, 0, 2],\n",
       "       [0, 0, 3, 4],\n",
       "       [0, 0, 1, 1]], dtype=int32)"
      ]
     },
     "execution_count": 42,
     "metadata": {},
     "output_type": "execute_result"
    }
   ],
   "source": [
    "arr2 & arr3"
   ]
  },
  {
   "cell_type": "code",
   "execution_count": 43,
   "id": "6aafc7b1-dd9e-4362-9d4f-9dafa5b62f75",
   "metadata": {},
   "outputs": [
    {
     "data": {
      "text/plain": [
       "array([[-9, -4, -3, -3],\n",
       "       [-3, -2, -4, -6],\n",
       "       [-7, -3, -4, -4]], dtype=int32)"
      ]
     },
     "execution_count": 43,
     "metadata": {},
     "output_type": "execute_result"
    }
   ],
   "source": [
    "~arr2"
   ]
  },
  {
   "cell_type": "code",
   "execution_count": 44,
   "id": "06cd39ef-bc3d-4d5d-96e9-3cd2b2341646",
   "metadata": {},
   "outputs": [
    {
     "data": {
      "text/plain": [
       "array([[13,  3, 10,  6],\n",
       "       [ 7,  7,  3,  5],\n",
       "       [ 7,  6, 11,  3]], dtype=int32)"
      ]
     },
     "execution_count": 44,
     "metadata": {},
     "output_type": "execute_result"
    }
   ],
   "source": [
    "arr2 | arr3"
   ]
  },
  {
   "cell_type": "code",
   "execution_count": 45,
   "id": "3ea9b964-4b2d-46e6-ac74-e936fb632385",
   "metadata": {},
   "outputs": [
    {
     "data": {
      "text/plain": [
       "array([[ True,  True, False, False],\n",
       "       [False, False, False,  True],\n",
       "       [ True, False, False,  True]])"
      ]
     },
     "execution_count": 45,
     "metadata": {},
     "output_type": "execute_result"
    }
   ],
   "source": [
    "arr2>arr3"
   ]
  },
  {
   "cell_type": "code",
   "execution_count": 46,
   "id": "5e8f4010-849a-45b8-a2dc-74eb0296cee2",
   "metadata": {},
   "outputs": [],
   "source": [
    "#string function"
   ]
  },
  {
   "cell_type": "code",
   "execution_count": 47,
   "id": "4ecc142f-10cf-45b0-b87e-a08fb8fe6ca3",
   "metadata": {},
   "outputs": [],
   "source": [
    "arr4 = np.array(['sudh','kumar'])"
   ]
  },
  {
   "cell_type": "code",
   "execution_count": 50,
   "id": "58ad28dc-d20d-45c2-8d0d-5309149598aa",
   "metadata": {},
   "outputs": [
    {
     "data": {
      "text/plain": [
       "array(['SUDH', 'KUMAR'], dtype='<U5')"
      ]
     },
     "execution_count": 50,
     "metadata": {},
     "output_type": "execute_result"
    }
   ],
   "source": [
    "np.char.upper(arr4)"
   ]
  },
  {
   "cell_type": "code",
   "execution_count": 51,
   "id": "b79204fd-bd68-4a03-bf04-2f7715b2f753",
   "metadata": {},
   "outputs": [
    {
     "data": {
      "text/plain": [
       "array(['Sudh', 'Kumar'], dtype='<U5')"
      ]
     },
     "execution_count": 51,
     "metadata": {},
     "output_type": "execute_result"
    }
   ],
   "source": [
    "np.char.title(arr4)"
   ]
  },
  {
   "cell_type": "code",
   "execution_count": 52,
   "id": "2e4dab17-0846-4fc4-a71a-824750c8c44a",
   "metadata": {},
   "outputs": [
    {
     "data": {
      "text/plain": [
       "array(['Sudh', 'Kumar'], dtype='<U5')"
      ]
     },
     "execution_count": 52,
     "metadata": {},
     "output_type": "execute_result"
    }
   ],
   "source": [
    "np.char.capitalize(arr4)"
   ]
  },
  {
   "cell_type": "code",
   "execution_count": 53,
   "id": "7941ae48-c330-432e-a23a-390f44f47e84",
   "metadata": {},
   "outputs": [],
   "source": [
    "#numpy mathmatcal function"
   ]
  },
  {
   "cell_type": "code",
   "execution_count": 55,
   "id": "5c904358-53df-4286-ac4d-ef82a4aefc4d",
   "metadata": {},
   "outputs": [
    {
     "data": {
      "text/plain": [
       "array([[8, 3, 2, 2],\n",
       "       [2, 1, 3, 5],\n",
       "       [6, 2, 3, 3]])"
      ]
     },
     "execution_count": 55,
     "metadata": {},
     "output_type": "execute_result"
    }
   ],
   "source": [
    "arr2"
   ]
  },
  {
   "cell_type": "code",
   "execution_count": 56,
   "id": "a8f118d9-2dec-43f8-940e-4e49e5032ea2",
   "metadata": {},
   "outputs": [
    {
     "data": {
      "text/plain": [
       "array([[ 0.98935825,  0.14112001,  0.90929743,  0.90929743],\n",
       "       [ 0.90929743,  0.84147098,  0.14112001, -0.95892427],\n",
       "       [-0.2794155 ,  0.90929743,  0.14112001,  0.14112001]])"
      ]
     },
     "execution_count": 56,
     "metadata": {},
     "output_type": "execute_result"
    }
   ],
   "source": [
    "np.sin(arr2)"
   ]
  },
  {
   "cell_type": "code",
   "execution_count": 57,
   "id": "1f20302e-5c05-496f-a19a-6a4ed3e5b7b7",
   "metadata": {},
   "outputs": [
    {
     "data": {
      "text/plain": [
       "array([[-0.14550003, -0.9899925 , -0.41614684, -0.41614684],\n",
       "       [-0.41614684,  0.54030231, -0.9899925 ,  0.28366219],\n",
       "       [ 0.96017029, -0.41614684, -0.9899925 , -0.9899925 ]])"
      ]
     },
     "execution_count": 57,
     "metadata": {},
     "output_type": "execute_result"
    }
   ],
   "source": [
    "np.cos(arr2)"
   ]
  },
  {
   "cell_type": "code",
   "execution_count": 58,
   "id": "365e11c7-e70a-4fea-8576-69331a21ccbe",
   "metadata": {},
   "outputs": [
    {
     "data": {
      "text/plain": [
       "array([[-6.79971146, -0.14254654, -2.18503986, -2.18503986],\n",
       "       [-2.18503986,  1.55740772, -0.14254654, -3.38051501],\n",
       "       [-0.29100619, -2.18503986, -0.14254654, -0.14254654]])"
      ]
     },
     "execution_count": 58,
     "metadata": {},
     "output_type": "execute_result"
    }
   ],
   "source": [
    "np.tan(arr2)"
   ]
  },
  {
   "cell_type": "code",
   "execution_count": 60,
   "id": "4d6e12d3-146d-4514-979f-7a31642da75c",
   "metadata": {},
   "outputs": [
    {
     "data": {
      "text/plain": [
       "array([[0.99999977, 0.99505475, 0.96402758, 0.96402758],\n",
       "       [0.96402758, 0.76159416, 0.99505475, 0.9999092 ],\n",
       "       [0.99998771, 0.96402758, 0.99505475, 0.99505475]])"
      ]
     },
     "execution_count": 60,
     "metadata": {},
     "output_type": "execute_result"
    }
   ],
   "source": [
    "np.tanh(arr2)"
   ]
  },
  {
   "cell_type": "code",
   "execution_count": 61,
   "id": "b9328994-6fb9-4ad7-9a58-f18c591a3878",
   "metadata": {},
   "outputs": [
    {
     "data": {
      "text/plain": [
       "array([[0.90308999, 0.47712125, 0.30103   , 0.30103   ],\n",
       "       [0.30103   , 0.        , 0.47712125, 0.69897   ],\n",
       "       [0.77815125, 0.30103   , 0.47712125, 0.47712125]])"
      ]
     },
     "execution_count": 61,
     "metadata": {},
     "output_type": "execute_result"
    }
   ],
   "source": [
    "np.log10(arr2)"
   ]
  },
  {
   "cell_type": "code",
   "execution_count": 62,
   "id": "172ba1cb-1880-497f-9a07-50de12595747",
   "metadata": {},
   "outputs": [
    {
     "data": {
      "text/plain": [
       "array([[2.98095799e+03, 2.00855369e+01, 7.38905610e+00, 7.38905610e+00],\n",
       "       [7.38905610e+00, 2.71828183e+00, 2.00855369e+01, 1.48413159e+02],\n",
       "       [4.03428793e+02, 7.38905610e+00, 2.00855369e+01, 2.00855369e+01]])"
      ]
     },
     "execution_count": 62,
     "metadata": {},
     "output_type": "execute_result"
    }
   ],
   "source": [
    "np.exp(arr2)"
   ]
  },
  {
   "cell_type": "code",
   "execution_count": 63,
   "id": "553a88c5-0d6f-4df2-9780-ab7282d1c30d",
   "metadata": {},
   "outputs": [
    {
     "data": {
      "text/plain": [
       "array([[2.82842712, 1.73205081, 1.41421356, 1.41421356],\n",
       "       [1.41421356, 1.        , 1.73205081, 2.23606798],\n",
       "       [2.44948974, 1.41421356, 1.73205081, 1.73205081]])"
      ]
     },
     "execution_count": 63,
     "metadata": {},
     "output_type": "execute_result"
    }
   ],
   "source": [
    "np.sqrt(arr2)"
   ]
  },
  {
   "cell_type": "code",
   "execution_count": 65,
   "id": "48bda938-9dc2-47d2-bb19-cc80bfd727af",
   "metadata": {},
   "outputs": [
    {
     "data": {
      "text/plain": [
       "array([[64,  9,  4,  4],\n",
       "       [ 4,  1,  9, 25],\n",
       "       [36,  4,  9,  9]], dtype=int32)"
      ]
     },
     "execution_count": 65,
     "metadata": {},
     "output_type": "execute_result"
    }
   ],
   "source": [
    "np.power(arr2,2)"
   ]
  },
  {
   "cell_type": "code",
   "execution_count": 66,
   "id": "7a7a11b1-a242-494b-8143-63319e7eb251",
   "metadata": {},
   "outputs": [
    {
     "data": {
      "text/plain": [
       "3.3333333333333335"
      ]
     },
     "execution_count": 66,
     "metadata": {},
     "output_type": "execute_result"
    }
   ],
   "source": [
    "np.mean(arr2)"
   ]
  },
  {
   "cell_type": "code",
   "execution_count": 68,
   "id": "7392a044-44d2-4264-b6fe-6469fb7260d6",
   "metadata": {},
   "outputs": [
    {
     "data": {
      "text/plain": [
       "3.0"
      ]
     },
     "execution_count": 68,
     "metadata": {},
     "output_type": "execute_result"
    }
   ],
   "source": [
    "np.median(arr2)"
   ]
  },
  {
   "cell_type": "code",
   "execution_count": 69,
   "id": "f75a0016-84a0-40ad-af4d-7279baf1c4c4",
   "metadata": {},
   "outputs": [
    {
     "data": {
      "text/plain": [
       "1.9293061504650375"
      ]
     },
     "execution_count": 69,
     "metadata": {},
     "output_type": "execute_result"
    }
   ],
   "source": [
    "np.std(arr2)"
   ]
  },
  {
   "cell_type": "code",
   "execution_count": 70,
   "id": "6ef54307-318f-4007-af97-7b344ed8b3fc",
   "metadata": {},
   "outputs": [
    {
     "data": {
      "text/plain": [
       "3.722222222222222"
      ]
     },
     "execution_count": 70,
     "metadata": {},
     "output_type": "execute_result"
    }
   ],
   "source": [
    "np.var(arr2)"
   ]
  },
  {
   "cell_type": "code",
   "execution_count": 71,
   "id": "b5233ecd-9945-4866-a27b-d583975b5328",
   "metadata": {},
   "outputs": [
    {
     "data": {
      "text/plain": [
       "1"
      ]
     },
     "execution_count": 71,
     "metadata": {},
     "output_type": "execute_result"
    }
   ],
   "source": [
    "np.min(arr2)"
   ]
  },
  {
   "cell_type": "code",
   "execution_count": 72,
   "id": "eef0280a-e5cb-4dcd-be8a-53e9eb6bf2c3",
   "metadata": {},
   "outputs": [
    {
     "data": {
      "text/plain": [
       "8"
      ]
     },
     "execution_count": 72,
     "metadata": {},
     "output_type": "execute_result"
    }
   ],
   "source": [
    "np.max(arr2)"
   ]
  },
  {
   "cell_type": "code",
   "execution_count": null,
   "id": "a6055556-7e44-4152-992a-0be6ffa1fdc3",
   "metadata": {},
   "outputs": [],
   "source": []
  }
 ],
 "metadata": {
  "kernelspec": {
   "display_name": "Python 3 (ipykernel)",
   "language": "python",
   "name": "python3"
  },
  "language_info": {
   "codemirror_mode": {
    "name": "ipython",
    "version": 3
   },
   "file_extension": ".py",
   "mimetype": "text/x-python",
   "name": "python",
   "nbconvert_exporter": "python",
   "pygments_lexer": "ipython3",
   "version": "3.9.13"
  }
 },
 "nbformat": 4,
 "nbformat_minor": 5
}
