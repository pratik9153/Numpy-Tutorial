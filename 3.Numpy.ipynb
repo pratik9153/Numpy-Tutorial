{
 "cells": [
  {
   "cell_type": "code",
   "execution_count": 1,
   "id": "9ad0a0d9-cbad-42e7-9029-ac98813a0fb5",
   "metadata": {},
   "outputs": [],
   "source": [
    "#sort & searching ,counting function...."
   ]
  },
  {
   "cell_type": "code",
   "execution_count": 2,
   "id": "099e042b-518e-4339-95ba-386166fd10cb",
   "metadata": {},
   "outputs": [],
   "source": [
    "import numpy as np "
   ]
  },
  {
   "cell_type": "code",
   "execution_count": 4,
   "id": "f6f0bbbe-91ad-451d-a8bb-18cf10ba4496",
   "metadata": {},
   "outputs": [],
   "source": [
    "arr = np.array([67,8,78,23,4,53,2,56,79,1])"
   ]
  },
  {
   "cell_type": "code",
   "execution_count": 5,
   "id": "b9587960-d07a-409a-a482-9bc9dd5653ed",
   "metadata": {},
   "outputs": [
    {
     "data": {
      "text/plain": [
       "array([ 1,  2,  4,  8, 23, 53, 56, 67, 78, 79])"
      ]
     },
     "execution_count": 5,
     "metadata": {},
     "output_type": "execute_result"
    }
   ],
   "source": [
    "np.sort(arr)"
   ]
  },
  {
   "cell_type": "code",
   "execution_count": 7,
   "id": "da8e4ac1-466d-487e-a60b-3c76e9550539",
   "metadata": {},
   "outputs": [
    {
     "data": {
      "text/plain": [
       "2"
      ]
     },
     "execution_count": 7,
     "metadata": {},
     "output_type": "execute_result"
    }
   ],
   "source": [
    "np.searchsorted(arr, 45)"
   ]
  },
  {
   "cell_type": "code",
   "execution_count": 8,
   "id": "ac580d54-bc51-4d12-980c-a4937845dbf1",
   "metadata": {},
   "outputs": [],
   "source": [
    "arr1 = np.array([0,345,456,0.0,0,0.0])"
   ]
  },
  {
   "cell_type": "code",
   "execution_count": 9,
   "id": "77c4d04d-c12e-4b38-b411-734cd0633420",
   "metadata": {},
   "outputs": [
    {
     "data": {
      "text/plain": [
       "2"
      ]
     },
     "execution_count": 9,
     "metadata": {},
     "output_type": "execute_result"
    }
   ],
   "source": [
    "np.count_nonzero(arr1)"
   ]
  },
  {
   "cell_type": "code",
   "execution_count": 10,
   "id": "8c89ad3b-a8a4-4850-89f8-6575ee6d66cc",
   "metadata": {},
   "outputs": [
    {
     "data": {
      "text/plain": [
       "array([67,  8, 78, 23,  4, 53,  2, 56, 79,  1])"
      ]
     },
     "execution_count": 10,
     "metadata": {},
     "output_type": "execute_result"
    }
   ],
   "source": [
    "arr"
   ]
  },
  {
   "cell_type": "code",
   "execution_count": 13,
   "id": "e54de7e8-1914-4044-815e-9af7580352c8",
   "metadata": {},
   "outputs": [
    {
     "data": {
      "text/plain": [
       "(array([0, 1, 2, 3, 5, 7, 8], dtype=int64),)"
      ]
     },
     "execution_count": 13,
     "metadata": {},
     "output_type": "execute_result"
    }
   ],
   "source": [
    "np.where(arr > 6)"
   ]
  },
  {
   "cell_type": "code",
   "execution_count": 15,
   "id": "c8f643f5-b649-4b70-89a6-dd8b9fc8260d",
   "metadata": {},
   "outputs": [
    {
     "data": {
      "text/plain": [
       "array([67,  8, 78, 23, 53, 56, 79])"
      ]
     },
     "execution_count": 15,
     "metadata": {},
     "output_type": "execute_result"
    }
   ],
   "source": [
    "np.extract(arr>6 , arr)"
   ]
  },
  {
   "cell_type": "code",
   "execution_count": 16,
   "id": "4d5e92fd-937d-4d8b-a9d8-736b60fa6a30",
   "metadata": {},
   "outputs": [],
   "source": [
    "#numpy byte swapping "
   ]
  },
  {
   "cell_type": "code",
   "execution_count": 17,
   "id": "d4d6fe56-d09f-43b1-b6aa-a638dcfcc9f9",
   "metadata": {},
   "outputs": [
    {
     "data": {
      "text/plain": [
       "array([1124073472,  134217728, 1308622848,  385875968,   67108864,\n",
       "        889192448,   33554432,  939524096, 1325400064,   16777216])"
      ]
     },
     "execution_count": 17,
     "metadata": {},
     "output_type": "execute_result"
    }
   ],
   "source": [
    "arr.byteswap()"
   ]
  },
  {
   "cell_type": "code",
   "execution_count": 18,
   "id": "c771e49c-ac32-446c-99a7-7ea433493544",
   "metadata": {},
   "outputs": [],
   "source": [
    "#numpy copies & views"
   ]
  },
  {
   "cell_type": "code",
   "execution_count": 19,
   "id": "0ec2e045-5c8a-4cd0-bc2b-e2196d9ad3f4",
   "metadata": {},
   "outputs": [],
   "source": [
    "a = np.copy(arr)"
   ]
  },
  {
   "cell_type": "code",
   "execution_count": 20,
   "id": "c2a618da-d53c-46d1-ab44-0460ef4163dc",
   "metadata": {},
   "outputs": [],
   "source": [
    "b = arr.view()"
   ]
  },
  {
   "cell_type": "code",
   "execution_count": 21,
   "id": "9a6e27f8-238e-4b64-8c22-5a7a9e694592",
   "metadata": {},
   "outputs": [
    {
     "data": {
      "text/plain": [
       "array([67,  8, 78, 23,  4, 53,  2, 56, 79,  1])"
      ]
     },
     "execution_count": 21,
     "metadata": {},
     "output_type": "execute_result"
    }
   ],
   "source": [
    "b"
   ]
  },
  {
   "cell_type": "code",
   "execution_count": 22,
   "id": "06cd5080-eaf0-4880-8560-28974e892eb9",
   "metadata": {},
   "outputs": [
    {
     "data": {
      "text/plain": [
       "array([67,  8, 78, 23,  4, 53,  2, 56, 79,  1])"
      ]
     },
     "execution_count": 22,
     "metadata": {},
     "output_type": "execute_result"
    }
   ],
   "source": [
    "arr"
   ]
  },
  {
   "cell_type": "code",
   "execution_count": 23,
   "id": "07d6ec05-d655-4972-bf26-b5a424589b77",
   "metadata": {},
   "outputs": [],
   "source": [
    "#numpy matrix library"
   ]
  },
  {
   "cell_type": "code",
   "execution_count": 24,
   "id": "92a1dd33-ccd0-4630-bc2a-fc8c896ee604",
   "metadata": {},
   "outputs": [],
   "source": [
    "import numpy.matlib as nm"
   ]
  },
  {
   "cell_type": "code",
   "execution_count": 25,
   "id": "f3667772-8dbe-4479-9d26-061bc07a3bc3",
   "metadata": {},
   "outputs": [
    {
     "data": {
      "text/plain": [
       "matrix([[0., 0., 0., 0., 0.]])"
      ]
     },
     "execution_count": 25,
     "metadata": {},
     "output_type": "execute_result"
    }
   ],
   "source": [
    "nm.zeros(5)"
   ]
  },
  {
   "cell_type": "code",
   "execution_count": 26,
   "id": "aff12023-5cbe-435f-b7e4-23eaff63e10f",
   "metadata": {},
   "outputs": [
    {
     "data": {
      "text/plain": [
       "matrix([[1., 0., 0., 0., 0.],\n",
       "        [0., 1., 0., 0., 0.],\n",
       "        [0., 0., 1., 0., 0.],\n",
       "        [0., 0., 0., 1., 0.],\n",
       "        [0., 0., 0., 0., 1.]])"
      ]
     },
     "execution_count": 26,
     "metadata": {},
     "output_type": "execute_result"
    }
   ],
   "source": [
    "nm.eye(5)"
   ]
  },
  {
   "cell_type": "code",
   "execution_count": 28,
   "id": "98161d3f-f59f-4cd1-9c0e-ca9ef44bd41e",
   "metadata": {},
   "outputs": [
    {
     "data": {
      "text/plain": [
       "matrix([[1., 1., 1., 1.],\n",
       "        [1., 1., 1., 1.],\n",
       "        [1., 1., 1., 1.]])"
      ]
     },
     "execution_count": 28,
     "metadata": {},
     "output_type": "execute_result"
    }
   ],
   "source": [
    "nm.ones((3,4))"
   ]
  },
  {
   "cell_type": "code",
   "execution_count": 29,
   "id": "b43f32b2-d3d1-4cc2-9efe-76bb5bd6dd02",
   "metadata": {},
   "outputs": [],
   "source": [
    "#numpy linear algebra"
   ]
  },
  {
   "cell_type": "code",
   "execution_count": 34,
   "id": "d8270939-3236-414f-bde2-8e8dc1f627cc",
   "metadata": {},
   "outputs": [],
   "source": [
    "arr5 = np.random.randint([[2,3] , [3,4]])\n",
    "arr6 = np.random.randint([[5,3] , [3,4]])"
   ]
  },
  {
   "cell_type": "code",
   "execution_count": 35,
   "id": "71d77c3c-feee-4a32-ba83-f8f069ebb5ba",
   "metadata": {},
   "outputs": [
    {
     "data": {
      "text/plain": [
       "array([[2, 2],\n",
       "       [2, 2]])"
      ]
     },
     "execution_count": 35,
     "metadata": {},
     "output_type": "execute_result"
    }
   ],
   "source": [
    "np.dot(arr5,arr6)"
   ]
  },
  {
   "cell_type": "code",
   "execution_count": 36,
   "id": "04584569-048f-4522-aa1d-1886bb265ac6",
   "metadata": {},
   "outputs": [
    {
     "data": {
      "text/plain": [
       "array([[2, 2],\n",
       "       [2, 2]])"
      ]
     },
     "execution_count": 36,
     "metadata": {},
     "output_type": "execute_result"
    }
   ],
   "source": [
    "arr5@arr6"
   ]
  },
  {
   "cell_type": "code",
   "execution_count": null,
   "id": "be836053-2be8-49fc-a0f5-3f8e90d4966a",
   "metadata": {},
   "outputs": [],
   "source": []
  }
 ],
 "metadata": {
  "kernelspec": {
   "display_name": "Python 3 (ipykernel)",
   "language": "python",
   "name": "python3"
  },
  "language_info": {
   "codemirror_mode": {
    "name": "ipython",
    "version": 3
   },
   "file_extension": ".py",
   "mimetype": "text/x-python",
   "name": "python",
   "nbconvert_exporter": "python",
   "pygments_lexer": "ipython3",
   "version": "3.9.13"
  }
 },
 "nbformat": 4,
 "nbformat_minor": 5
}
